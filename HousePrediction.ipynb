{
 "cells": [
  {
   "cell_type": "code",
   "execution_count": 1,
   "metadata": {},
   "outputs": [],
   "source": [
    "import pandas as pd\n",
    "import numpy as np\n",
    "dataset_train = pd.read_csv('train.csv')\n",
    "dataset_test = pd.read_csv('test.csv')\n"
   ]
  },
  {
   "cell_type": "code",
   "execution_count": 2,
   "metadata": {},
   "outputs": [],
   "source": [
    "x_train = dataset_train.iloc[:,:-1].values\n",
    "Y = dataset_train.iloc[:,-1].values\n",
    "x_test = dataset_test.iloc[:,:].values\n",
    "X = np.concatenate((x_train, x_test), axis = 0)"
   ]
  },
  {
   "cell_type": "code",
   "execution_count": 3,
   "metadata": {},
   "outputs": [],
   "source": [
    "from sklearn.preprocessing import LabelEncoder, OneHotEncoder\n",
    "labelencoder = LabelEncoder()\n",
    "non_categorical_data = [0,1,3,4,17,18,19,20,26,34,36,37,38,43,44,45,46,47,48,49,50,51,52,54,56,59,61,62,66,67,68,69,70,71,75,76,77]\n",
    "non_categorical_data = np.asarray(non_categorical_data)\n",
    "total_data = np.arange(X.shape[1])\n",
    "categorial_data = np.setdiff1d(total_data,non_categorical_data)\n",
    "for i in categorial_data:\n",
    "    X[:, i] = labelencoder.fit_transform(X[:, i].astype(str))"
   ]
  },
  {
   "cell_type": "code",
   "execution_count": 4,
   "metadata": {},
   "outputs": [],
   "source": [
    "from sklearn.preprocessing import Imputer\n",
    "imputer = Imputer(missing_values='NaN',strategy = 'mean', axis = 0)\n",
    "imputer = imputer.fit(X[:, non_categorical_data])\n",
    "X[:, non_categorical_data] = imputer.transform(X[:, non_categorical_data])"
   ]
  },
  {
   "cell_type": "code",
   "execution_count": 5,
   "metadata": {},
   "outputs": [],
   "source": [
    "onehotencoder = OneHotEncoder(categorical_features=categorial_data)\n",
    "X = onehotencoder.fit_transform(X).toarray()"
   ]
  },
  {
   "cell_type": "code",
   "execution_count": 6,
   "metadata": {},
   "outputs": [],
   "source": [
    "x_t = X[0:x_train.shape[0]]\n",
    "x_t = np.delete(x_t, [275], axis=1)\n",
    "x_t2 = X[x_train.shape[0]:X.shape[0]]\n",
    "x_t3 = np.delete(x_t2, [275], axis=1)"
   ]
  },
  {
   "cell_type": "code",
   "execution_count": 48,
   "metadata": {},
   "outputs": [
    {
     "name": "stderr",
     "output_type": "stream",
     "text": [
      "/Users/sparshgarg/anaconda3/python/anaconda3/lib/python3.6/site-packages/ipykernel_launcher.py:4: DataConversionWarning: A column-vector y was passed when a 1d array was expected. Please change the shape of y to (n_samples,), for example using ravel().\n",
      "  after removing the cwd from sys.path.\n",
      "/Users/sparshgarg/anaconda3/python/anaconda3/lib/python3.6/site-packages/sklearn/utils/validation.py:578: DataConversionWarning: A column-vector y was passed when a 1d array was expected. Please change the shape of y to (n_samples, ), for example using ravel().\n",
      "  y = column_or_1d(y, warn=True)\n"
     ]
    }
   ],
   "source": [
    "Y = Y.reshape((Y.shape[0],1))\n",
    "from sklearn.ensemble import RandomForestRegressor\n",
    "regressor = RandomForestRegressor(n_estimators=250, random_state=0, max_features = None)\n",
    "regressor.fit(x_t,Y)\n",
    "y_pred = regressor.predict(x_t3)\n",
    "from sklearn.ensemble import GradientBoostingRegressor\n",
    "regressor2 = GradientBoostingRegressor(n_estimators=250, random_state=0, max_features = None, learning_rate = 0.188)\n",
    "regressor2.fit(x_t,Y)\n",
    "y_pred2 = regressor2.predict(x_t3)"
   ]
  },
  {
   "cell_type": "code",
   "execution_count": 49,
   "metadata": {},
   "outputs": [],
   "source": [
    "yans = (y_pred+y_pred2)/2\n",
    "index = list(range (1461, 2920))\n",
    "#print(index)\n",
    "with open('result.csv', 'a+') as r:\n",
    "    for i in range(len(yans)):\n",
    "        r.write('%i,%f\\n'%(index[i], yans[i]))\n",
    "    "
   ]
  }
 ],
 "metadata": {
  "kernelspec": {
   "display_name": "Python 3",
   "language": "python",
   "name": "python3"
  },
  "language_info": {
   "codemirror_mode": {
    "name": "ipython",
    "version": 3
   },
   "file_extension": ".py",
   "mimetype": "text/x-python",
   "name": "python",
   "nbconvert_exporter": "python",
   "pygments_lexer": "ipython3",
   "version": "3.6.4"
  }
 },
 "nbformat": 4,
 "nbformat_minor": 2
}
